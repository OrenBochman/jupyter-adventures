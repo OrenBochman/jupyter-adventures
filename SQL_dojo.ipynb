{
  "nbformat": 4,
  "nbformat_minor": 0,
  "metadata": {
    "colab": {
      "name": "SQL dojo.ipynb",
      "provenance": [],
      "authorship_tag": "ABX9TyMUmrX9pQFL3DbsaqCb69RO",
      "include_colab_link": true
    },
    "kernelspec": {
      "name": "python3",
      "display_name": "Python 3"
    }
  },
  "cells": [
    {
      "cell_type": "markdown",
      "metadata": {
        "id": "view-in-github",
        "colab_type": "text"
      },
      "source": [
        "<a href=\"https://colab.research.google.com/github/OrenBochman/jupyter-adventures/blob/master/SQL_dojo.ipynb\" target=\"_parent\"><img src=\"https://colab.research.google.com/assets/colab-badge.svg\" alt=\"Open In Colab\"/></a>"
      ]
    },
    {
      "cell_type": "markdown",
      "metadata": {
        "id": "3bgw1tyurs8J",
        "colab_type": "text"
      },
      "source": [
        "# A notebook to perfect SQL skills"
      ]
    },
    {
      "cell_type": "code",
      "metadata": {
        "id": "smITsAnurg0F",
        "colab_type": "code",
        "outputId": "bc265e64-a5ce-4225-8239-6829c38c414d",
        "colab": {
          "base_uri": "https://localhost:8080/",
          "height": 122
        }
      },
      "source": [
        "# !pip3 install pymysql\n",
        "# !pip3 install PyMySQL[rsa]\n",
        "# !pip3 install cryptography\n",
        "\n",
        "!pip3 install mysql-connector-python\n",
        "\n",
        "from decimal import Decimal\n",
        "from datetime import datetime, date, timedelta\n",
        "import mysql.connector\n",
        "from mysql.connector import (connection,  errorcode)\n",
        "\n",
        "# import pymysql.cursors\n",
        "# import cryptography\n",
        "import pandas as pd\n",
        "import pymysql\n",
        "import unittest \n",
        "import hashlib\n",
        "\n",
        "# seed the pseudorandom number generator\n",
        "from random import seed\n",
        "from random import random\n",
        "from math import floor\n"
      ],
      "execution_count": 72,
      "outputs": [
        {
          "output_type": "stream",
          "text": [
            "Requirement already satisfied: mysql-connector-python in /usr/local/lib/python3.7/site-packages (8.0.19)\r\n",
            "Requirement already satisfied: dnspython==1.16.0 in /usr/local/lib/python3.7/site-packages (from mysql-connector-python) (1.16.0)\r\n",
            "Requirement already satisfied: protobuf==3.6.1 in /usr/local/lib/python3.7/site-packages (from mysql-connector-python) (3.6.1)\r\n",
            "Requirement already satisfied: six>=1.9 in /usr/local/Cellar/ipython/7.5.0/libexec/vendor/lib/python3.7/site-packages (from protobuf==3.6.1->mysql-connector-python) (1.12.0)\r\n",
            "Requirement already satisfied: setuptools in /usr/local/lib/python3.7/site-packages (from protobuf==3.6.1->mysql-connector-python) (41.6.0)\r\n"
          ],
          "name": "stdout"
        }
      ]
    },
    {
      "cell_type": "markdown",
      "metadata": {
        "id": "hAuWfS9HsKe_",
        "colab_type": "text"
      },
      "source": [
        "## DB Connection"
      ]
    },
    {
      "cell_type": "code",
      "metadata": {
        "id": "NLtEEzrKsQXK",
        "colab_type": "code",
        "colab": {}
      },
      "source": [
        "#@title Example form fields\n",
        "#@markdown Forms support many types of fields.\n",
        "\n",
        "host = 'localhost' #@param {type: \"string\"}\n",
        "port = 3307        #@param {type: \"slider\", min: 3306, max: 3316}\n",
        "#number = 102      #@param {type: \"number\"}\n",
        "user = 'root'     #@param {type: \"string\"}\n",
        "passwd = \"VelvetRed27\"        #@param {type: \"string\",password :true}\n",
        "db = \"ParchPosely\" #@param [\"Employee\",\"ParchPosely\", \"BowlingLeagueExample\", \"EntertainmentAgencyExample\",\"RecipesExample\",\"SalesOrdersExample\",\"SchoolSchedulingExample\"] {allow-input: true}\n",
        "charset='utf8mb4'  #@param {type: \"string\"}\n",
        "#@markdown ---\n",
        "\n",
        "# connection\n",
        "# conn = mysql.connector.connect(\n",
        "#     host = host,\n",
        "#     port = int(port),\n",
        "#     user = user,\n",
        "#     passwd = passwd,\n",
        "#     db = db,\n",
        "#     charset = charset,\n",
        "#     auth_plugin='mysql_native_password',\n",
        "#     cursorclass = pymysql.cursors.DictCursor)\n",
        "\n"
      ],
      "execution_count": 0,
      "outputs": []
    },
    {
      "cell_type": "code",
      "metadata": {
        "id": "hik5p4v7bN3K",
        "colab_type": "code",
        "colab": {
          "base_uri": "https://localhost:8080/",
          "height": 34
        },
        "outputId": "342e8021-9151-4755-bd58-67318779efad"
      },
      "source": [
        "try:\n",
        "  cnx = mysql.connector.connect(user=user,\n",
        "                                 password=passwd,\n",
        "                                 host=host,\n",
        "                                 port=port,\n",
        "                                 database=db\n",
        "                                )\n",
        "except mysql.connector.Error as err:\n",
        "  if err.errno == errorcode.ER_ACCESS_DENIED_ERROR:\n",
        "    print(\"Something is wrong with your user name or password\")\n",
        "  elif err.errno == errorcode.ER_BAD_DB_ERROR:\n",
        "    print(\"Database does not exist\")\n",
        "  else:\n",
        "    print(err)\n",
        "else:\n",
        "  print(\"OK\")\n",
        "cursor = cnx.cursor()\n"
      ],
      "execution_count": 74,
      "outputs": [
        {
          "output_type": "stream",
          "text": [
            "OK\n"
          ],
          "name": "stdout"
        }
      ]
    },
    {
      "cell_type": "code",
      "metadata": {
        "id": "CkBMhdSFUjXb",
        "colab_type": "code",
        "colab": {}
      },
      "source": [
        "command=\"\"\"\n",
        "\n",
        "DROP DATABASE IF EXISTS `Employee`;\n",
        "\n",
        "\"\"\"\n",
        "cursor.execute(command)\n",
        "cnx.commit()"
      ],
      "execution_count": 0,
      "outputs": []
    },
    {
      "cell_type": "code",
      "metadata": {
        "id": "I4iPgAWwkM5E",
        "colab_type": "code",
        "colab": {}
      },
      "source": [
        "command=\"\"\"\n",
        "\n",
        "\n",
        "CREATE DATABASE `Employee` DEFAULT CHARACTER SET 'utf8mb4';\n",
        "\n",
        "\n",
        "\"\"\"\n",
        "cursor.execute(command)\n",
        "cnx.commit()"
      ],
      "execution_count": 0,
      "outputs": []
    },
    {
      "cell_type": "code",
      "metadata": {
        "id": "E9VDpHWokMqh",
        "colab_type": "code",
        "colab": {}
      },
      "source": [
        "command=\"\"\"\n",
        "\n",
        "DROP TABLE IF EXISTS `Employee`.`employees`;\n",
        "\n",
        "\"\"\"\n",
        "cursor.execute(command)\n",
        "cnx.commit()"
      ],
      "execution_count": 0,
      "outputs": []
    },
    {
      "cell_type": "code",
      "metadata": {
        "id": "U67geigSsSZn",
        "colab_type": "code",
        "colab": {}
      },
      "source": [
        "create_table=\"\"\"\n",
        "\n",
        "CREATE TABLE `Employee`.`employees` (\n",
        "  `employee_id` int(11) NOT NULL AUTO_INCREMENT,\n",
        "  `name` varchar(24) DEFAULT NULL,\n",
        "  `email` varchar(24) DEFAULT NULL,\n",
        "  `password` varchar(24) DEFAULT NULL,\n",
        "  PRIMARY KEY (`employee_id`)\n",
        ") ENGINE=InnoDB DEFAULT CHARSET=utf8mb4 COLLATE=utf8mb4_0900_ai_ci;\n",
        "\"\"\"\n",
        "cursor.execute(create_table)\n",
        "cnx.commit()"
      ],
      "execution_count": 0,
      "outputs": []
    },
    {
      "cell_type": "code",
      "metadata": {
        "id": "OPIGwPwAtoAf",
        "colab_type": "code",
        "colab": {}
      },
      "source": [
        "insert_data=\"\"\"\n",
        "\n",
        "INSERT INTO `Employee`.`employees`\n",
        "(`name`, `email`, `password`)\n",
        "VALUES\n",
        "('Thomas A. Anderson','neo4j@matrix.com','one'),\n",
        "('Morpheus','morpheus@zion.com','nebuCHARnezer'),\n",
        "('Trinity','3nity@zion.com','333'),\n",
        "('Cypher','cy4@matrix.com','zer0');\n",
        "\"\"\"\n",
        "cursor.execute(insert_data)\n",
        "cnx.commit()"
      ],
      "execution_count": 0,
      "outputs": []
    },
    {
      "cell_type": "code",
      "metadata": {
        "id": "DZB7VlCm94si",
        "colab_type": "code",
        "outputId": "bcb30803-13ed-4ba4-c571-ac53532ad3c5",
        "colab": {
          "base_uri": "https://localhost:8080/",
          "height": 34
        }
      },
      "source": [
        " # Read a single record\n",
        "sql = \"\"\"\n",
        "  SELECT `employee_id`, `name` ,`email`\n",
        "  FROM `Employee`.`employees` \n",
        "  WHERE `password`=%s\n",
        "\"\"\"\n",
        "\n",
        "cursor.execute(sql, ('one',))\n",
        "result = cursor.fetchone()\n",
        "print(result)"
      ],
      "execution_count": 80,
      "outputs": [
        {
          "output_type": "stream",
          "text": [
            "(1, 'Thomas A. Anderson', 'neo4j@matrix.com')\n"
          ],
          "name": "stdout"
        }
      ]
    },
    {
      "cell_type": "markdown",
      "metadata": {
        "id": "6unSCVzNSIf8",
        "colab_type": "text"
      },
      "source": [
        "# XML data"
      ]
    },
    {
      "cell_type": "code",
      "metadata": {
        "id": "3gLcvKZFmY9L",
        "colab_type": "code",
        "colab": {}
      },
      "source": [
        "command=\"\"\"\n",
        "\n",
        "DROP TABLE IF EXISTS `Employee`.`XMLTest`;\n",
        "\n",
        "\"\"\"\n",
        "cursor.execute(command)\n",
        "cnx.commit()"
      ],
      "execution_count": 0,
      "outputs": []
    },
    {
      "cell_type": "code",
      "metadata": {
        "id": "iJM83dstWFKa",
        "colab_type": "code",
        "colab": {}
      },
      "source": [
        "create_xml_table=\"\"\"\n",
        "\n",
        "CREATE TABLE `Employee`.`XMLTest`\n",
        "(\n",
        "\tXMLDATA TEXT\n",
        ") ENGINE=InnoDB DEFAULT CHARSET=utf8mb4 COLLATE=utf8mb4_0900_ai_ci;\n",
        "\"\"\"\n",
        "\n",
        "cursor.execute(create_xml_table)\n",
        "cnx.commit()"
      ],
      "execution_count": 0,
      "outputs": []
    },
    {
      "cell_type": "code",
      "metadata": {
        "id": "HbjXGzhsWFEH",
        "colab_type": "code",
        "colab": {}
      },
      "source": [
        "insert_xml_table=\"\"\" \n",
        "\n",
        "INSERT INTO `Employee`.`XMLTest`\n",
        "\n",
        "VALUES\n",
        "(\n",
        "  '<Students>\n",
        "      <RollNumber>1</RollNumber>\n",
        "      <Name>Anvesh</Name>\n",
        "      <RollNumber>2</RollNumber>\n",
        "      <Name>Neevan</Name>\n",
        "   </Students>'\n",
        ")\n",
        "\"\"\"\n",
        "\n",
        "cursor.execute(insert_xml_table)\n",
        "cnx.commit()"
      ],
      "execution_count": 0,
      "outputs": []
    },
    {
      "cell_type": "code",
      "metadata": {
        "id": "aittHlf9x30a",
        "colab_type": "code",
        "colab": {}
      },
      "source": [
        "command=\"\"\"  \n",
        "    CREATE VIEW `Employee`.`TempXMLData` AS\n",
        "    SELECT   \n",
        "        ExtractValue(XMLText,'//RollNumber[$i]') RollNumber ,\n",
        "        ExtractValue(XMLText,'//Name[$i]') RName \n",
        "    FROM\n",
        "        `Employee`.`XMLTest`\n",
        "    ; \t\n",
        "\"\"\"\n",
        "#cursor.execute(command)       "
      ],
      "execution_count": 0,
      "outputs": []
    },
    {
      "cell_type": "code",
      "metadata": {
        "id": "YSxFKunC8f_E",
        "colab_type": "code",
        "colab": {}
      },
      "source": [
        "command=\"\"\" \n",
        "\tINSERT INTO Employee.TempXMLData \n",
        "\tSELECT RNumber, RName; \t\n",
        "        SET i = i+1;  \t\n",
        "    END WHILE;         \n",
        "    SELECT \n",
        "\tRollNumber\n",
        "        ,Name\n",
        "    FROM Employee.TempXMLData\n",
        "    WHERE RollNumber <>'';   \n",
        "\"\"\"\n",
        "#cursor.execute(command)  "
      ],
      "execution_count": 0,
      "outputs": []
    },
    {
      "cell_type": "markdown",
      "metadata": {
        "id": "vwEtgC-auBKZ",
        "colab_type": "text"
      },
      "source": [
        "# Clean up"
      ]
    },
    {
      "cell_type": "code",
      "metadata": {
        "id": "Z1Tld9tft6Ss",
        "colab_type": "code",
        "colab": {}
      },
      "source": [
        "drop_db=\"\"\"\n",
        "DROP DATABASE IF EXISTS `Employee`\n",
        "\"\"\"\n",
        "cursor.execute(drop_db)"
      ],
      "execution_count": 0,
      "outputs": []
    },
    {
      "cell_type": "code",
      "metadata": {
        "id": "LrPuz7OKUQv4",
        "colab_type": "code",
        "colab": {}
      },
      "source": [
        "cnx.close()"
      ],
      "execution_count": 0,
      "outputs": []
    }
  ]
}